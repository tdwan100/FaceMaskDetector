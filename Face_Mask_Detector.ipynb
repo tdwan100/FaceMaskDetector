{
 "cells": [
  {
   "cell_type": "markdown",
   "metadata": {},
   "source": [
    "# Face Mask Detector"
   ]
  },
  {
   "cell_type": "markdown",
   "metadata": {},
   "source": [
    "This code is used to load the data stored and feed them to our Convolutional Neural Network."
   ]
  },
  {
   "cell_type": "code",
   "execution_count": 1,
   "metadata": {},
   "outputs": [],
   "source": [
    "import numpy as np\n",
    "import matplotlib.pyplot as plt\n",
    "%matplotlib inline"
   ]
  },
  {
   "cell_type": "code",
   "execution_count": 2,
   "metadata": {},
   "outputs": [],
   "source": [
    "data = np.load('data.npy')\n",
    "labels = np.load('labels.npy')"
   ]
  },
  {
   "cell_type": "code",
   "execution_count": 3,
   "metadata": {},
   "outputs": [],
   "source": [
    "#normalizing the data\n",
    "data = data/255.0"
   ]
  },
  {
   "cell_type": "code",
   "execution_count": 4,
   "metadata": {},
   "outputs": [
    {
     "name": "stdout",
     "output_type": "stream",
     "text": [
      "(8477, 1)\n"
     ]
    }
   ],
   "source": [
    "labels = np.reshape(labels, (labels.shape[0],1))\n",
    "print(labels.shape)"
   ]
  },
  {
   "cell_type": "code",
   "execution_count": 5,
   "metadata": {},
   "outputs": [
    {
     "name": "stderr",
     "output_type": "stream",
     "text": [
      "Using TensorFlow backend.\n"
     ]
    }
   ],
   "source": [
    "import keras"
   ]
  },
  {
   "cell_type": "code",
   "execution_count": 6,
   "metadata": {},
   "outputs": [],
   "source": [
    "from keras.models import Sequential\n",
    "from keras.layers import Conv2D, Dense, Flatten, Dropout, MaxPooling2D\n",
    "from keras.callbacks import ModelCheckpoint"
   ]
  },
  {
   "cell_type": "code",
   "execution_count": 7,
   "metadata": {},
   "outputs": [],
   "source": [
    "model = Sequential()\n",
    "\n",
    "model.add(Conv2D(32, (3,3), activation = \"relu\", input_shape = data.shape[1:], padding = 'same'))\n",
    "model.add(MaxPooling2D((2,2)))\n",
    "\n",
    "model.add(Conv2D(64, (3,3), activation = 'relu', padding = 'same'))\n",
    "model.add(MaxPooling2D((2,2)))\n",
    "# model.add(Dropout(0.2))\n",
    "\n",
    "model.add(Conv2D(128, (3,3), activation = 'relu', padding = 'same'))\n",
    "model.add(MaxPooling2D((2,2)))\n",
    "model.add(Dropout(0.2))\n",
    "\n",
    "model.add(Conv2D(256, (3,3), activation = 'relu', padding = 'same'))\n",
    "model.add(MaxPooling2D((2,2)))\n",
    "\n",
    "model.add(Flatten())\n",
    "\n",
    "model.add(Dropout(0.5))\n",
    "\n",
    "model.add(Dense(100, activation = 'relu'))\n",
    "\n",
    "model.add(Dense(1, activation = \"sigmoid\"))"
   ]
  },
  {
   "cell_type": "code",
   "execution_count": 8,
   "metadata": {},
   "outputs": [],
   "source": [
    "model.compile(optimizer = 'adam', loss = 'binary_crossentropy', metrics = ['accuracy'])"
   ]
  },
  {
   "cell_type": "code",
   "execution_count": 9,
   "metadata": {},
   "outputs": [],
   "source": [
    "from sklearn.model_selection import train_test_split\n",
    "X_train, X_test, y_train, y_test = train_test_split(data, labels, test_size = 0.1, random_state = 42)"
   ]
  },
  {
   "cell_type": "markdown",
   "metadata": {},
   "source": [
    "The below code is used to monitor the epochs based on the validation loss and the models with least validation loss are aumatically saved."
   ]
  },
  {
   "cell_type": "code",
   "execution_count": 10,
   "metadata": {},
   "outputs": [],
   "source": [
    "checkpoint = ModelCheckpoint('model-{epoch:03d}.model', monitor = 'val_loss', verbose = 0, save_best_only = True, mode = 'auto')"
   ]
  },
  {
   "cell_type": "code",
   "execution_count": 11,
   "metadata": {},
   "outputs": [
    {
     "name": "stdout",
     "output_type": "stream",
     "text": [
      "Train on 7629 samples, validate on 848 samples\n",
      "Epoch 1/10\n",
      "7629/7629 [==============================] - 162s 21ms/step - loss: 0.1690 - accuracy: 0.9439 - val_loss: 0.1259 - val_accuracy: 0.9575\n",
      "Epoch 2/10\n",
      "7629/7629 [==============================] - 165s 22ms/step - loss: 0.0489 - accuracy: 0.9811 - val_loss: 0.0447 - val_accuracy: 0.9835\n",
      "Epoch 3/10\n",
      "7629/7629 [==============================] - 166s 22ms/step - loss: 0.0305 - accuracy: 0.9899 - val_loss: 0.1011 - val_accuracy: 0.9575\n",
      "Epoch 4/10\n",
      "7629/7629 [==============================] - 168s 22ms/step - loss: 0.0207 - accuracy: 0.9938 - val_loss: 0.0330 - val_accuracy: 0.9894\n",
      "Epoch 5/10\n",
      "7629/7629 [==============================] - 165s 22ms/step - loss: 0.0247 - accuracy: 0.9916 - val_loss: 0.0449 - val_accuracy: 0.9894\n",
      "Epoch 6/10\n",
      "7629/7629 [==============================] - 165s 22ms/step - loss: 0.0120 - accuracy: 0.9957 - val_loss: 0.0415 - val_accuracy: 0.9929\n",
      "Epoch 7/10\n",
      "7629/7629 [==============================] - 165s 22ms/step - loss: 0.0356 - accuracy: 0.9911 - val_loss: 0.0800 - val_accuracy: 0.9752\n",
      "Epoch 8/10\n",
      "7629/7629 [==============================] - 214s 28ms/step - loss: 0.0186 - accuracy: 0.9946 - val_loss: 0.0372 - val_accuracy: 0.9941\n",
      "Epoch 9/10\n",
      "7629/7629 [==============================] - 214s 28ms/step - loss: 0.0097 - accuracy: 0.9969 - val_loss: 0.0328 - val_accuracy: 0.9929\n",
      "Epoch 10/10\n",
      "7629/7629 [==============================] - 167s 22ms/step - loss: 0.0079 - accuracy: 0.9969 - val_loss: 0.0607 - val_accuracy: 0.9917\n"
     ]
    }
   ],
   "source": [
    "history = model.fit(X_train, y_train, callbacks = [checkpoint], validation_data = (X_test, y_test), epochs = 10)"
   ]
  },
  {
   "cell_type": "code",
   "execution_count": 12,
   "metadata": {},
   "outputs": [
    {
     "data": {
      "image/png": "[encoded data removed]",
      "text/plain": [
       "<Figure size 432x288 with 1 Axes>"
      ]
     },
     "metadata": {
      "needs_background": "light"
     },
     "output_type": "display_data"
    }
   ],
   "source": [
    "plt.plot(history.history['loss'], 'r', label = 'Training Loss')\n",
    "plt.plot(history.history['val_loss'], label = 'Validation Loss')\n",
    "plt.xlabel('epochs')\n",
    "plt.ylabel('loss')\n",
    "plt.legend()\n",
    "plt.show()"
   ]
  },
  {
   "cell_type": "code",
   "execution_count": 13,
   "metadata": {},
   "outputs": [
    {
     "data": {
      "image/png": "[encoded data removed]",
      "text/plain": [
       "<Figure size 432x288 with 1 Axes>"
      ]
     },
     "metadata": {
      "needs_background": "light"
     },
     "output_type": "display_data"
    }
   ],
   "source": [
    "plt.plot(history.history['accuracy'],'r',label='training accuracy')\n",
    "plt.plot(history.history['val_accuracy'],label='validation accuracy')\n",
    "plt.xlabel('epochs')\n",
    "plt.ylabel('Accuracy')\n",
    "plt.legend()\n",
    "plt.show()"
   ]
  },
  {
   "cell_type": "code",
   "execution_count": 14,
   "metadata": {},
   "outputs": [
    {
     "name": "stdout",
     "output_type": "stream",
     "text": [
      "848/848 [==============================] - 6s 7ms/step\n"
     ]
    }
   ],
   "source": [
    "loss, accuracy = model.evaluate(X_test, y_test)"
   ]
  },
  {
   "cell_type": "code",
   "execution_count": 15,
   "metadata": {},
   "outputs": [
    {
     "name": "stdout",
     "output_type": "stream",
     "text": [
      "Accuracy = 99.17 %\n"
     ]
    }
   ],
   "source": [
    "print(f\"Accuracy = {round(accuracy * 100, 2)} %\")"
   ]
  },
  {
   "cell_type": "code",
   "execution_count": 16,
   "metadata": {},
   "outputs": [],
   "source": [
    "model.save(\"Face_Mask_Predictor.h5\")"
   ]
  }
 ],
 "metadata": {
  "kernelspec": {
   "display_name": "Python 3",
   "language": "python",
   "name": "python3"
  },
  "language_info": {
   "codemirror_mode": {
    "name": "ipython",
    "version": 3
   },
   "file_extension": ".py",
   "mimetype": "text/x-python",
   "name": "python",
   "nbconvert_exporter": "python",
   "pygments_lexer": "ipython3",
   "version": "3.7.4"
  }
 },
 "nbformat": 4,
 "nbformat_minor": 2
}

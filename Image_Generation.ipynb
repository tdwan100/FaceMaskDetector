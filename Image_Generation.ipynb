{
 "cells": [
  {
   "cell_type": "markdown",
   "metadata": {},
   "source": [
    "# Image Generation\n",
    "\n",
    "This code is used to generate with mask and without mask Images through our webcam.\n",
    "The additional dataset used for this project is already uploaded to the repository."
   ]
  },
  {
   "cell_type": "code",
   "execution_count": 1,
   "metadata": {},
   "outputs": [
    {
     "name": "stderr",
     "output_type": "stream",
     "text": [
      "Using TensorFlow backend.\n"
     ]
    }
   ],
   "source": [
    "import cv2\n",
    "import numpy as np\n",
    "import mtcnn\n",
    "from mtcnn import MTCNN\n",
    "import matplotlib.pyplot as plt"
   ]
  },
  {
   "cell_type": "code",
   "execution_count": 2,
   "metadata": {},
   "outputs": [],
   "source": [
    "detector = MTCNN()"
   ]
  },
  {
   "cell_type": "code",
   "execution_count": 3,
   "metadata": {},
   "outputs": [],
   "source": [
    "import os"
   ]
  },
  {
   "cell_type": "code",
   "execution_count": 12,
   "metadata": {},
   "outputs": [],
   "source": [
    "#for without mask \n",
    "video = cv2.VideoCapture(0)\n",
    "c = 1\n",
    "while True:\n",
    "    _ , img = video.read()\n",
    "    img_rgb = cv2.cvtColor(img, cv2.COLOR_BGR2RGB)\n",
    "    faces = detector.detect_faces(img_rgb)\n",
    "    gray_img = cv2.cvtColor(img, cv2.COLOR_BGR2GRAY)\n",
    "    (x,y,w,h) = faces[0]['box']\n",
    "    face = gray_img[y:y+h, x:x+w]\n",
    "    resized_face = cv2.resize(face, (150,150))\n",
    "    name = \"dataset/without_mask1/img\" + str(c) + \".jpg\"\n",
    "#     cv2.imwrite(name, resized_face)\n",
    "    c+=1\n",
    "    if c > 500:\n",
    "        break\n",
    "    cv2.imshow(\"LIVE\", img)\n",
    "    if cv2.waitKey(1) == ord('s'):\n",
    "        break\n",
    "cv2.destroyAllWindows()\n",
    "video.release()"
   ]
  },
  {
   "cell_type": "code",
   "execution_count": 4,
   "metadata": {},
   "outputs": [],
   "source": [
    "#for with mask \n",
    "video = cv2.VideoCapture(0)\n",
    "c = 1\n",
    "while True:\n",
    "    _ , img = video.read()\n",
    "    img_rgb = cv2.cvtColor(img, cv2.COLOR_BGR2RGB)\n",
    "    faces = detector.detect_faces(img_rgb)\n",
    "    gray_img = cv2.cvtColor(img, cv2.COLOR_BGR2GRAY)\n",
    "    (x,y,w,h) = faces[0]['box']\n",
    "    face = gray_img[y:y+h, x:x+w]\n",
    "    resized_face = cv2.resize(face, (150,150))\n",
    "    name = \"dataset/with_mask1/img\" + str(c) + \".jpg\"\n",
    "    cv2.imwrite(name, resized_face)\n",
    "    c+=1\n",
    "    if c > 500:\n",
    "        break\n",
    "    cv2.imshow(\"LIVE\", img)\n",
    "    if cv2.waitKey(1) == ord('s'):\n",
    "        break\n",
    "cv2.destroyAllWindows()\n",
    "video.release()"
   ]
  }
 ],
 "metadata": {
  "kernelspec": {
   "display_name": "Python 3",
   "language": "python",
   "name": "python3"
  },
  "language_info": {
   "codemirror_mode": {
    "name": "ipython",
    "version": 3
   },
   "file_extension": ".py",
   "mimetype": "text/x-python",
   "name": "python",
   "nbconvert_exporter": "python",
   "pygments_lexer": "ipython3",
   "version": "3.7.4"
  }
 },
 "nbformat": 4,
 "nbformat_minor": 2
}
